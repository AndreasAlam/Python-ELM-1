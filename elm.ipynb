{
 "cells": [
  {
   "cell_type": "code",
   "execution_count": 1,
   "metadata": {
    "collapsed": false
   },
   "outputs": [],
   "source": [
    "from elm.elm import ELM\n",
    "from elm.ml_elm import MLELM\n",
    "from elm.cob_elm import COBELM\n",
    "from sklearn import preprocessing\n",
    "from sklearn.datasets import fetch_mldata\n",
    "from sklearn import cross_validation"
   ]
  },
  {
   "cell_type": "code",
   "execution_count": 2,
   "metadata": {
    "collapsed": false
   },
   "outputs": [],
   "source": [
    "iris = fetch_mldata('iris')\n",
    "iris.data = preprocessing.scale(iris.data)\n",
    "australian = fetch_mldata('australian')\n",
    "australian.data = preprocessing.scale(australian.data)"
   ]
  },
  {
   "cell_type": "code",
   "execution_count": 3,
   "metadata": {
    "collapsed": false
   },
   "outputs": [],
   "source": [
    "def cv(e, data_set):\n",
    "    scores = cross_validation.cross_val_score(e, data_set.data, data_set.target, cv=5, scoring='accuracy')\n",
    "    print(\"Accuracy: %0.2f \" % (scores.mean()))"
   ]
  },
  {
   "cell_type": "code",
   "execution_count": 4,
   "metadata": {
    "collapsed": false
   },
   "outputs": [],
   "source": [
    "elm = ELM(1000)\n",
    "cob_elm = COBELM(1000, c = 2**5)"
   ]
  },
  {
   "cell_type": "code",
   "execution_count": 5,
   "metadata": {
    "collapsed": false
   },
   "outputs": [
    {
     "name": "stdout",
     "output_type": "stream",
     "text": [
      "Accuracy: 0.79 \n"
     ]
    }
   ],
   "source": [
    "cv(elm, iris)"
   ]
  },
  {
   "cell_type": "code",
   "execution_count": 6,
   "metadata": {
    "collapsed": false
   },
   "outputs": [
    {
     "name": "stdout",
     "output_type": "stream",
     "text": [
      "Accuracy: 0.91 \n"
     ]
    }
   ],
   "source": [
    "cv(cob_elm, iris)"
   ]
  },
  {
   "cell_type": "code",
   "execution_count": 8,
   "metadata": {
    "collapsed": false
   },
   "outputs": [],
   "source": [
    "elm = ELM(50)\n",
    "ml_elm = MLELM([10, 10, 50])"
   ]
  },
  {
   "cell_type": "code",
   "execution_count": 9,
   "metadata": {
    "collapsed": false
   },
   "outputs": [
    {
     "name": "stdout",
     "output_type": "stream",
     "text": [
      "Accuracy: 0.86 \n"
     ]
    }
   ],
   "source": [
    "cv(elm, australian)"
   ]
  },
  {
   "cell_type": "code",
   "execution_count": 10,
   "metadata": {
    "collapsed": false
   },
   "outputs": [
    {
     "name": "stderr",
     "output_type": "stream",
     "text": [
      "/home/masato/Dropbox/Works/Python-ELM/elm/elm.py:45: RuntimeWarning: overflow encountered in exp\n",
      "  return 1 / (1 + np.exp(- self.a * x))\n",
      "/home/masato/Dropbox/Works/Python-ELM/elm/elm.py:45: RuntimeWarning: overflow encountered in exp\n",
      "  return 1 / (1 + np.exp(- self.a * x))\n",
      "/home/masato/Dropbox/Works/Python-ELM/elm/elm.py:45: RuntimeWarning: overflow encountered in exp\n",
      "  return 1 / (1 + np.exp(- self.a * x))\n"
     ]
    },
    {
     "name": "stdout",
     "output_type": "stream",
     "text": [
      "Accuracy: 0.82 \n"
     ]
    }
   ],
   "source": [
    "cv(ml_elm, australian)"
   ]
  },
  {
   "cell_type": "code",
   "execution_count": null,
   "metadata": {
    "collapsed": true
   },
   "outputs": [],
   "source": []
  }
 ],
 "metadata": {
  "kernelspec": {
   "display_name": "Python 3",
   "language": "python",
   "name": "python3"
  },
  "language_info": {
   "codemirror_mode": {
    "name": "ipython",
    "version": 3
   },
   "file_extension": ".py",
   "mimetype": "text/x-python",
   "name": "python",
   "nbconvert_exporter": "python",
   "pygments_lexer": "ipython3",
   "version": "3.4.3"
  }
 },
 "nbformat": 4,
 "nbformat_minor": 0
}
