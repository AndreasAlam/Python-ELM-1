{
 "cells": [
  {
   "cell_type": "code",
   "execution_count": 9,
   "metadata": {
    "collapsed": true
   },
   "outputs": [],
   "source": [
    "import elm\n",
    "from sklearn import preprocessing\n",
    "from sklearn.datasets import fetch_mldata\n",
    "from sklearn import cross_validation"
   ]
  },
  {
   "cell_type": "code",
   "execution_count": 10,
   "metadata": {
    "collapsed": false
   },
   "outputs": [],
   "source": [
    "db_name = 'australian'\n",
    "data_set = fetch_mldata(db_name)\n",
    "data_set.data = preprocessing.scale(data_set.data)\n",
    "X_train, X_test, y_train, y_test = cross_validation.train_test_split(data_set.data, data_set.target, test_size=0.4, random_state=0)"
   ]
  },
  {
   "cell_type": "code",
   "execution_count": 12,
   "metadata": {
    "collapsed": false
   },
   "outputs": [],
   "source": [
    "hid_num = 10\n",
    "e = elm.ELM(hid_num)"
   ]
  },
  {
   "cell_type": "code",
   "execution_count": 13,
   "metadata": {
    "collapsed": false
   },
   "outputs": [
    {
     "name": "stdout",
     "output_type": "stream",
     "text": [
      "Accuracy: 0.82 \n"
     ]
    }
   ],
   "source": [
    "ave = 0\n",
    "for i in range(10):\n",
    "    scores = cross_validation.cross_val_score(e, data_set.data, data_set.target, cv=5, scoring='accuracy')\n",
    "    ave += scores.mean()\n",
    "ave /= 10\n",
    "print(\"Accuracy: %0.2f \" % (ave))"
   ]
  }
 ],
 "metadata": {
  "kernelspec": {
   "display_name": "Python 3",
   "language": "python",
   "name": "python3"
  },
  "language_info": {
   "codemirror_mode": {
    "name": "ipython",
    "version": 3
   },
   "file_extension": ".py",
   "mimetype": "text/x-python",
   "name": "python",
   "nbconvert_exporter": "python",
   "pygments_lexer": "ipython3",
   "version": "3.4.3"
  }
 },
 "nbformat": 4,
 "nbformat_minor": 0
}
